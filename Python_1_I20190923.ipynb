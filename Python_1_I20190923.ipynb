{
  "nbformat": 4,
  "nbformat_minor": 0,
  "metadata": {
    "colab": {
      "name": "Python_1_I20190923.ipynb",
      "provenance": [],
      "collapsed_sections": [],
      "include_colab_link": true
    },
    "kernelspec": {
      "name": "python3",
      "display_name": "Python 3"
    }
  },
  "cells": [
    {
      "cell_type": "markdown",
      "metadata": {
        "id": "view-in-github",
        "colab_type": "text"
      },
      "source": [
        "<a href=\"https://colab.research.google.com/github/wasd816438/Python/blob/master/Python_1_I20190923.ipynb\" target=\"_parent\"><img src=\"https://colab.research.google.com/assets/colab-badge.svg\" alt=\"Open In Colab\"/></a>"
      ]
    },
    {
      "cell_type": "markdown",
      "metadata": {
        "id": "48oJM4EnY7co",
        "colab_type": "text"
      },
      "source": [
        "# 輸入與輸出(Input and Output)\n",
        "\n",
        "單元學習目標:\n",
        "\n",
        "python輸入:input(), raw_input()\n",
        "\n",
        "python輸出: print()\n",
        "\n",
        "python格式化輸出技術"
      ]
    },
    {
      "cell_type": "markdown",
      "metadata": {
        "id": "ZWjgByXmaFnm",
        "colab_type": "text"
      },
      "source": [
        "## 基本輸入:讀取使用者的輸入\n",
        "```\n",
        "使用input時，會從標準輸入(stdin)中讀取輸入資料\n",
        "這些資料是string字串型態{重要}\n",
        "```\n",
        "\n",
        "stdin==Standard Input"
      ]
    },
    {
      "cell_type": "code",
      "metadata": {
        "id": "ijngqghocdMi",
        "colab_type": "code",
        "colab": {}
      },
      "source": [
        "x = input('Enter your name:')\n",
        "print('Hello, ' + x)"
      ],
      "execution_count": 0,
      "outputs": []
    },
    {
      "cell_type": "code",
      "metadata": {
        "id": "30xXufkLaCmw",
        "colab_type": "code",
        "colab": {}
      },
      "source": [
        "a = input(\"請輸入：\")\n",
        "a"
      ],
      "execution_count": 0,
      "outputs": []
    },
    {
      "cell_type": "markdown",
      "metadata": {
        "id": "1SD7O0o7ctjF",
        "colab_type": "text"
      },
      "source": [
        "###  Python內建的type()函數可以顯示資料型態"
      ]
    },
    {
      "cell_type": "code",
      "metadata": {
        "id": "pF9kFc3TaSqq",
        "colab_type": "code",
        "colab": {}
      },
      "source": [
        "type(a)"
      ],
      "execution_count": 0,
      "outputs": []
    },
    {
      "cell_type": "markdown",
      "metadata": {
        "id": "3gqt8RrVc9UW",
        "colab_type": "text"
      },
      "source": [
        "### 錯誤的做法：請指出底下程式的錯誤"
      ]
    },
    {
      "cell_type": "code",
      "metadata": {
        "id": "iKzh0Ml7Z5Bl",
        "colab_type": "code",
        "colab": {}
      },
      "source": [
        "a = input(\"請輸入：\")\n",
        "a\n",
        "b=a+1\n",
        "b"
      ],
      "execution_count": 0,
      "outputs": []
    },
    {
      "cell_type": "markdown",
      "metadata": {
        "id": "7W0HURAya60W",
        "colab_type": "text"
      },
      "source": [
        "## 基本輸入:讀取使用者輸入的整數\n",
        "\n",
        "使用eval()函數"
      ]
    },
    {
      "cell_type": "code",
      "metadata": {
        "id": "I-bbsfCJbTbk",
        "colab_type": "code",
        "colab": {}
      },
      "source": [
        "a = eval(input(\"請輸入：\"))\n",
        "a"
      ],
      "execution_count": 0,
      "outputs": []
    },
    {
      "cell_type": "code",
      "metadata": {
        "id": "8PjXBoZNbiyp",
        "colab_type": "code",
        "colab": {}
      },
      "source": [
        "b=a+1\n",
        "b"
      ],
      "execution_count": 0,
      "outputs": []
    },
    {
      "cell_type": "markdown",
      "metadata": {
        "id": "3s9vlMhfbuzR",
        "colab_type": "text"
      },
      "source": [
        "## 超級重要:可以一次輸入多（兩）個資料\n"
      ]
    },
    {
      "cell_type": "code",
      "metadata": {
        "id": "VkgFCFQbbvsL",
        "colab_type": "code",
        "colab": {}
      },
      "source": [
        "a,b = eval(input(\"請輸入兩個數位：\"))\n",
        "a,b"
      ],
      "execution_count": 0,
      "outputs": []
    },
    {
      "cell_type": "markdown",
      "metadata": {
        "id": "xQnUFmw6e3Pv",
        "colab_type": "text"
      },
      "source": [
        "### 高階技巧:"
      ]
    },
    {
      "cell_type": "code",
      "metadata": {
        "id": "-SB2rXihemQJ",
        "colab_type": "code",
        "colab": {}
      },
      "source": [
        "x, y, z = [int(x) for x in input(\"Enter three value: \").split()] \n",
        "print(\"First Number is: \", x) \n",
        "print(\"Second Number is: \", y) \n",
        "print(\"Third Number is: \", z) \n",
        "print() "
      ],
      "execution_count": 0,
      "outputs": []
    },
    {
      "cell_type": "code",
      "metadata": {
        "id": "KFu-WieEfRIO",
        "colab_type": "code",
        "colab": {}
      },
      "source": [
        "x, y, z = [int(x) for x in input(\"Enter three value: \").split(\",\")] \n",
        "print(\"First Number is: \", x) \n",
        "print(\"Second Number is: \", y) \n",
        "print(\"Third Number is: \", z) \n",
        "print()"
      ],
      "execution_count": 0,
      "outputs": []
    },
    {
      "cell_type": "code",
      "metadata": {
        "id": "0jimkUvuf45y",
        "colab_type": "code",
        "colab": {}
      },
      "source": [
        "a, b = input(\"Enter a two value: \").split() \n",
        "print(\"First number is {} and second number is {}\".format(a, b)) \n",
        "print() "
      ],
      "execution_count": 0,
      "outputs": []
    },
    {
      "cell_type": "code",
      "metadata": {
        "id": "UnNyNCQxijMo",
        "colab_type": "code",
        "colab": {}
      },
      "source": [
        ""
      ],
      "execution_count": 0,
      "outputs": []
    }
  ]
}